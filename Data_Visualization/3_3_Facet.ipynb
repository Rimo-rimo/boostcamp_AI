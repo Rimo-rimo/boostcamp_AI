{
  "nbformat": 4,
  "nbformat_minor": 0,
  "metadata": {
    "kernelspec": {
      "display_name": "Python 3",
      "language": "python",
      "name": "python3"
    },
    "language_info": {
      "codemirror_mode": {
        "name": "ipython",
        "version": 3
      },
      "file_extension": ".py",
      "mimetype": "text/x-python",
      "name": "python",
      "nbconvert_exporter": "python",
      "pygments_lexer": "ipython3",
      "version": "3.8.0"
    },
    "colab": {
      "name": "3-3-Facet.ipynb",
      "provenance": [],
      "include_colab_link": true
    }
  },
  "cells": [
    {
      "cell_type": "markdown",
      "metadata": {
        "id": "view-in-github",
        "colab_type": "text"
      },
      "source": [
        "<a href=\"https://colab.research.google.com/github/Rimo-rimo/boostcamp_AI/blob/main/Data_Visualization/3_3_Facet.ipynb\" target=\"_parent\"><img src=\"https://colab.research.google.com/assets/colab-badge.svg\" alt=\"Open In Colab\"/></a>"
      ]
    },
    {
      "cell_type": "markdown",
      "metadata": {
        "id": "D-Db3K5Y_AkQ"
      },
      "source": [
        "# 3-3-Facet\n",
        "\n",
        "## 1. Figure & Subplots\n",
        "\n",
        "### 1-1.  Figure & Axes\n",
        "\n",
        "**1-3. Python과 Matplotlib** 에서 이미 살펴보았기에 가볍게만 보겠습니다."
      ]
    },
    {
      "cell_type": "code",
      "metadata": {
        "id": "ToJj1oU-_AkR"
      },
      "source": [
        "import numpy as np\n",
        "import matplotlib as mpl\n",
        "import matplotlib.pyplot as plt"
      ],
      "execution_count": null,
      "outputs": []
    },
    {
      "cell_type": "code",
      "metadata": {
        "id": "Mdp384Aw_AkR"
      },
      "source": [
        "fig = plt.figure()\n",
        "ax = fig.add_subplot(121)\n",
        "ax = fig.add_subplot(122)\n",
        "plt.show()"
      ],
      "execution_count": null,
      "outputs": []
    },
    {
      "cell_type": "code",
      "metadata": {
        "id": "ma7OZbv__AkS"
      },
      "source": [
        "fig, (ax1, ax2) = plt.subplots(1, 2)\n",
        "\n",
        "plt.show()"
      ],
      "execution_count": null,
      "outputs": []
    },
    {
      "cell_type": "markdown",
      "metadata": {
        "id": "I-phdnrl_AkS"
      },
      "source": [
        "### 1-2. Figure Color\n",
        "\n",
        "하얀 배경의 내용일 떄 차트와 배경을 구분하기 위해 차트 배경 색을 조정할 수 있습니다."
      ]
    },
    {
      "cell_type": "code",
      "metadata": {
        "id": "jmaboLdm_AkS"
      },
      "source": [
        "fig, ax = plt.subplots()\n",
        "fig.set_facecolor('lightgray')\n",
        "plt.show()"
      ],
      "execution_count": null,
      "outputs": []
    },
    {
      "cell_type": "markdown",
      "metadata": {
        "id": "U5jw3uiq_AkT"
      },
      "source": [
        "## 2. Figure & Ax Properties\n",
        "\n",
        "### 2-1. DPI\n",
        "\n",
        "- `dpi` : Dots per Inch\n",
        "\n",
        "DPI는 인치에 해당하는 dot 수를 정하는 인자로 해상도를 의미합니다. 기본값은 100입니다.\n",
        "\n",
        "150, 200, 300 값 등을 조정하며 원하는 해상도로 출력할 수 있습니다."
      ]
    },
    {
      "cell_type": "code",
      "metadata": {
        "id": "OusxT4cv_AkT"
      },
      "source": [
        "fig = plt.figure()\n",
        "ax1 = fig.add_subplot(121)\n",
        "ax2 = fig.add_subplot(122)\n",
        "ax1.plot([1, 2, 3], [1, 4, 9])\n",
        "ax2.plot([1, 2, 3], [1, 2, 3])\n",
        "plt.show()"
      ],
      "execution_count": null,
      "outputs": []
    },
    {
      "cell_type": "code",
      "metadata": {
        "id": "9Ke1jCIg_AkT"
      },
      "source": [
        "fig = plt.figure(dpi=150)\n",
        "ax1 = fig.add_subplot(121)\n",
        "ax2 = fig.add_subplot(122)\n",
        "ax1.plot([1, 2, 3], [1, 4, 9])\n",
        "ax2.plot([1, 2, 3], [1, 2, 3])\n",
        "plt.show()"
      ],
      "execution_count": null,
      "outputs": []
    },
    {
      "cell_type": "markdown",
      "metadata": {
        "id": "pIjibuOY_AkT"
      },
      "source": [
        "### 2-2. Sharex, Sharey\n",
        "\n",
        "- `sharex`, `sharey`\n",
        "\n",
        "개별 ax에 대해서나 `subplots` 함수를 사용할 때는 `sharex`, `sharey`를 사용하여 축을 공유할 수 있습니다."
      ]
    },
    {
      "cell_type": "code",
      "metadata": {
        "id": "TJIWjQfb_AkU"
      },
      "source": [
        "fig = plt.figure()\n",
        "ax1 = fig.add_subplot(121)\n",
        "ax1.plot([1, 2, 3], [1, 4, 9])\n",
        "ax2 = fig.add_subplot(122, sharey=ax1)\n",
        "ax2.plot([1, 2, 3], [1, 2, 3])\n",
        "plt.show()"
      ],
      "execution_count": null,
      "outputs": []
    },
    {
      "cell_type": "code",
      "metadata": {
        "id": "L2FtZAgw_AkU"
      },
      "source": [
        "fig, axes = plt.subplots(1, 2, sharey=True)\n",
        "\n",
        "axes[0].plot([1, 2, 3], [1, 4, 9])\n",
        "axes[1].plot([1, 2, 3], [1, 2, 3])\n",
        "plt.show()"
      ],
      "execution_count": null,
      "outputs": []
    },
    {
      "cell_type": "markdown",
      "metadata": {
        "id": "1aDF7Md3_AkU"
      },
      "source": [
        "### 2-3. squeeze와 flatten\n",
        "\n",
        "- `squeeze`\n",
        "\n",
        "`subplots()`로 생성하면 기본적으로 다음과 같이 서브플롯 ax 배열이 생성됩니다.\n",
        "\n",
        "- 1 x 1 : 객체 1개 (`ax`)\n",
        "- 1 x N 또는 N x 1 : 길이 N 배열 (`axes[i]`)\n",
        "- N x M : N by M 배열 (`axes[i][j]`)\n",
        "\n",
        "numpy ndarray에서 각각 차원이 0, 1, 2로 나타납니다. \n",
        "이렇게 되면 경우에 따라 반복문을 사용할 수 있거나, 없거나로 구분됩니다.\n",
        "\n",
        "`squeeze`를 사용하면 항상 2차원으로 배열을 받을 수 있고, 가변 크기에 대해 반복문을 사용하기에 유용합니다."
      ]
    },
    {
      "cell_type": "code",
      "metadata": {
        "id": "Bl4o4Xb-_AkU"
      },
      "source": [
        "n, m = 1, 3\n",
        "\n",
        "fig, axes = plt.subplots(n, m, squeeze=False, figsize=(m*2, n*2))\n",
        "idx = 0\n",
        "for i in range(n):\n",
        "    for j in range(m):\n",
        "        axes[i][j].set_title(idx)\n",
        "        axes[i][j].set_xticks([])\n",
        "        axes[i][j].set_yticks([])\n",
        "        idx+=1\n",
        "\n",
        "plt.show()"
      ],
      "execution_count": null,
      "outputs": []
    },
    {
      "cell_type": "markdown",
      "metadata": {
        "id": "JcNTSJA3_AkV"
      },
      "source": [
        "`plt.subplots()`나 `plt.gca()`로 받는 ax 리스트는 numpy ndarray로 전달됩니다. \n",
        "\n",
        "그렇기에 1중 반복문을 쓰고 싶다면 `flatten()` 메서드를 사용할 수 있습니다."
      ]
    },
    {
      "cell_type": "code",
      "metadata": {
        "id": "YclBCtG1_AkV"
      },
      "source": [
        "n, m = 2, 3\n",
        "\n",
        "fig, axes = plt.subplots(n, m, figsize=(m*2, n*2))\n",
        "\n",
        "for i, ax in enumerate(axes.flatten()):\n",
        "    ax.set_title(i)\n",
        "    ax.set_xticks([])\n",
        "    ax.set_yticks([])\n",
        "\n",
        "\n",
        "plt.show()"
      ],
      "execution_count": null,
      "outputs": []
    },
    {
      "cell_type": "markdown",
      "metadata": {
        "id": "A1bWbwqa_AkV"
      },
      "source": [
        "### 2-4. aspect\n",
        "\n",
        "- `aspect`"
      ]
    },
    {
      "cell_type": "code",
      "metadata": {
        "id": "Pm8UBw4F_AkV"
      },
      "source": [
        "fig = plt.figure(figsize=(12, 5))\n",
        "ax1 = fig.add_subplot(121, aspect=1)\n",
        "ax2 = fig.add_subplot(122, aspect=0.5)\n",
        "plt.show()"
      ],
      "execution_count": null,
      "outputs": []
    },
    {
      "cell_type": "code",
      "metadata": {
        "id": "1hd32Jtd_AkV"
      },
      "source": [
        "fig = plt.figure(figsize=(12, 5))\n",
        "ax1 = fig.add_subplot(121, aspect=1)\n",
        "ax2 = fig.add_subplot(122, aspect=0.5)\n",
        "\n",
        "ax2.set_xlim(0, 1)\n",
        "ax2.set_ylim(0, 2)\n",
        "plt.show()"
      ],
      "execution_count": null,
      "outputs": []
    },
    {
      "cell_type": "markdown",
      "metadata": {
        "id": "eQsDPhlz_AkW"
      },
      "source": [
        "## 3. Gridspec\n",
        "\n",
        "### 3-1. add_gridspec\n",
        "\n",
        "N by M 그리드에서 슬라이싱으로 서브플롯을 배치할 수 있습니다."
      ]
    },
    {
      "cell_type": "code",
      "metadata": {
        "id": "jcZdDXI8_AkW"
      },
      "source": [
        "fig = plt.figure(figsize=(8, 5))\n",
        "\n",
        "gs = fig.add_gridspec(3, 3) # make 3 by 3 grid (row, col)\n",
        "\n",
        "ax = [None for _ in range(5)]\n",
        "\n",
        "ax[0] = fig.add_subplot(gs[0, :]) \n",
        "ax[0].set_title('gs[0, :]')\n",
        "\n",
        "ax[1] = fig.add_subplot(gs[1, :-1])\n",
        "ax[1].set_title('gs[1, :-1]')\n",
        "\n",
        "ax[2] = fig.add_subplot(gs[1:, -1])\n",
        "ax[2].set_title('gs[1:, -1]')\n",
        "\n",
        "ax[3] = fig.add_subplot(gs[-1, 0])\n",
        "ax[3].set_title('gs[-1, 0]')\n",
        "\n",
        "ax[4] = fig.add_subplot(gs[-1, -2])\n",
        "ax[4].set_title('gs[-1, -2]')\n",
        "\n",
        "for ix in range(5):\n",
        "    ax[ix].set_xticks([])\n",
        "    ax[ix].set_yticks([])\n",
        "\n",
        "plt.tight_layout()\n",
        "plt.show()"
      ],
      "execution_count": null,
      "outputs": []
    },
    {
      "cell_type": "markdown",
      "metadata": {
        "id": "KHo-NgXU_AkW"
      },
      "source": [
        "### 3-2. subplot2grid\n",
        "\n",
        "N x M 그리드에서 시작점에서 delta x, delta y로 표현할 수 있습니다.\n",
        "\n",
        "> 개인적으로는 add_gridspec을 더 선호합니다."
      ]
    },
    {
      "cell_type": "code",
      "metadata": {
        "id": "roizd8hC_AkW"
      },
      "source": [
        "\n",
        "fig = plt.figure(figsize=(8, 5)) # initialize figure\n",
        "\n",
        "ax = [None for _ in range(6)] # list to save many ax for setting parameter in each\n",
        "\n",
        "ax[0] = plt.subplot2grid((3,4), (0,0), colspan=4)\n",
        "ax[1] = plt.subplot2grid((3,4), (1,0), colspan=1)\n",
        "ax[2] = plt.subplot2grid((3,4), (1,1), colspan=1)\n",
        "ax[3] = plt.subplot2grid((3,4), (1,2), colspan=1)\n",
        "ax[4] = plt.subplot2grid((3,4), (1,3), colspan=1,rowspan=2)\n",
        "ax[5] = plt.subplot2grid((3,4), (2,0), colspan=3)\n",
        "\n",
        "\n",
        "for ix in range(6): \n",
        "    ax[ix].set_title('ax[{}]'.format(ix)) # make ax title for distinguish:)\n",
        "    ax[ix].set_xticks([]) # to remove x ticks\n",
        "    ax[ix].set_yticks([]) # to remove y ticks\n",
        "    \n",
        "fig.tight_layout()\n",
        "plt.show()"
      ],
      "execution_count": null,
      "outputs": []
    },
    {
      "cell_type": "markdown",
      "metadata": {
        "id": "KHUlWTc7_AkX"
      },
      "source": [
        "### 3-3. add_axes\n",
        "\n",
        "특정 플롯을 임의의 위치에 만드는 메서드입니다.\n",
        "\n",
        "위치를 조정하여 그래프를 그리는 게 쉽지는 않기 때문에 추천하지 않습니다."
      ]
    },
    {
      "cell_type": "code",
      "metadata": {
        "id": "2rKfmPj8_AkX"
      },
      "source": [
        "fig = plt.figure(figsize=(8, 5))\n",
        "\n",
        "ax = [None for _ in range(3)]\n",
        "\n",
        "\n",
        "ax[0] = fig.add_axes([0.1,0.1,0.8,0.4]) # x, y, dx, dy\n",
        "ax[1] = fig.add_axes([0.15,0.6,0.25,0.6])\n",
        "ax[2] = fig.add_axes([0.5,0.6,0.4,0.3])\n",
        "\n",
        "for ix in range(3):\n",
        "    ax[ix].set_title('ax[{}]'.format(ix))\n",
        "    ax[ix].set_xticks([])\n",
        "    ax[ix].set_yticks([])\n",
        "\n",
        "plt.show()"
      ],
      "execution_count": null,
      "outputs": []
    },
    {
      "cell_type": "markdown",
      "metadata": {
        "id": "K12pko6F_AkX"
      },
      "source": [
        "### 3-4. inset_axes\n",
        "\n",
        "미니맵 등 원하는 서브플롯을 그릴 때 사용할 수 있습니다.\n",
        "\n",
        "표현하고자 하는 메인시각화를 해치지 않는 선에서 사용하는 것을 추천합니다.\n",
        "\n"
      ]
    },
    {
      "cell_type": "code",
      "metadata": {
        "id": "5651bprb_AkX"
      },
      "source": [
        "fig, ax = plt.subplots()\n",
        "axin = ax.inset_axes([0.8, 0.8, 0.2, 0.2])\n",
        "plt.show()"
      ],
      "execution_count": null,
      "outputs": []
    },
    {
      "cell_type": "code",
      "metadata": {
        "id": "opeOPbi1_AkY"
      },
      "source": [
        "fig, ax = plt.subplots()\n",
        "\n",
        "color=['royalblue', 'tomato']\n",
        "ax.bar(['A', 'B'], [1, 2],\n",
        "       color=color\n",
        "      )\n",
        "\n",
        "ax.margins(0.2)\n",
        "axin = ax.inset_axes([0.8, 0.8, 0.2, 0.2])\n",
        "axin.pie([1, 2], colors=color, \n",
        "         autopct='%1.0f%%')\n",
        "plt.show()"
      ],
      "execution_count": null,
      "outputs": []
    },
    {
      "cell_type": "markdown",
      "metadata": {
        "id": "7uuAnjej_AkY"
      },
      "source": [
        "### 3-5.  make_axes_locatable\n",
        "\n",
        "일반적으로 colorbar에 많이 사용합니다."
      ]
    },
    {
      "cell_type": "code",
      "metadata": {
        "id": "mW81JRnb_AkY"
      },
      "source": [
        "from mpl_toolkits.axes_grid1.axes_divider import make_axes_locatable\n",
        "\n",
        "fig, ax = plt.subplots(1, 1)\n",
        "ax_divider = make_axes_locatable(ax)\n",
        "\n",
        "ax = ax_divider.append_axes(\"right\", size=\"7%\", pad=\"2%\")\n",
        "plt.show()"
      ],
      "execution_count": null,
      "outputs": []
    },
    {
      "cell_type": "code",
      "metadata": {
        "id": "1MWcqxOz_AkZ"
      },
      "source": [
        "fig, ax = plt.subplots(1, 1)\n",
        "\n",
        "# 이미지를 보여주는 시각화\n",
        "# 2D 배열을 색으로 보여줌\n",
        "im = ax.imshow(np.arange(100).reshape((10, 10)))\n",
        "\n",
        "divider = make_axes_locatable(ax)\n",
        "cax = divider.append_axes(\"right\", size=\"5%\", pad=0.05)\n",
        "\n",
        "fig.colorbar(im, cax=cax)\n",
        "plt.show()"
      ],
      "execution_count": null,
      "outputs": []
    },
    {
      "cell_type": "code",
      "metadata": {
        "id": "thMcQ5dt_AkZ"
      },
      "source": [
        ""
      ],
      "execution_count": null,
      "outputs": []
    }
  ]
}