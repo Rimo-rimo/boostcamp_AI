{
  "nbformat": 4,
  "nbformat_minor": 0,
  "metadata": {
    "kernelspec": {
      "display_name": "Python 3",
      "language": "python",
      "name": "python3"
    },
    "language_info": {
      "codemirror_mode": {
        "name": "ipython",
        "version": 3
      },
      "file_extension": ".py",
      "mimetype": "text/x-python",
      "name": "python",
      "nbconvert_exporter": "python",
      "pygments_lexer": "ipython3",
      "version": "3.8.0"
    },
    "colab": {
      "name": "3-4-MoreInfo.ipynb",
      "provenance": [],
      "include_colab_link": true
    }
  },
  "cells": [
    {
      "cell_type": "markdown",
      "metadata": {
        "id": "view-in-github",
        "colab_type": "text"
      },
      "source": [
        "<a href=\"https://colab.research.google.com/github/Rimo-rimo/boostcamp_AI/blob/main/Data_Visualization/3_4_MoreInfo.ipynb\" target=\"_parent\"><img src=\"https://colab.research.google.com/assets/colab-badge.svg\" alt=\"Open In Colab\"/></a>"
      ]
    },
    {
      "cell_type": "markdown",
      "metadata": {
        "id": "znFnN3DJ_BIU"
      },
      "source": [
        "# 3-4-More Information\n",
        "\n",
        "정보량을 늘리고, 더 깔끔한 matplotlib을 위한 팁들을 알아봅시다.\n",
        "\n",
        "\n",
        "## 1. Grid\n",
        "\n",
        "강의에서 소개한 내용을 코드로 살펴보겠습니다."
      ]
    },
    {
      "cell_type": "code",
      "metadata": {
        "id": "oGsY87Og_BIW"
      },
      "source": [
        "import numpy as np\n",
        "import matplotlib as mpl\n",
        "import matplotlib.pyplot as plt"
      ],
      "execution_count": null,
      "outputs": []
    },
    {
      "cell_type": "markdown",
      "metadata": {
        "id": "C4GUvp7w_BIW"
      },
      "source": [
        "### 1-1. grid\n",
        "\n",
        "기본적인 Grid부터 살펴보겠습니다.\n",
        "\n",
        "기본적인 그리드에서는 다음 파라미터를 살펴보겠습니다.\n",
        "\n",
        "- `which` : major ticks, minor ticks\n",
        "- `axis` : x, y\n",
        "- `linestyle`\n",
        "- `linewidth`\n",
        "- `zorder` "
      ]
    },
    {
      "cell_type": "code",
      "metadata": {
        "id": "TbILzBpG_BIW"
      },
      "source": [
        "fig, ax = plt.subplots()\n",
        "ax.grid()\n",
        "plt.show()"
      ],
      "execution_count": null,
      "outputs": []
    },
    {
      "cell_type": "code",
      "metadata": {
        "id": "vpKp_pJ0_BIX"
      },
      "source": [
        "np.random.seed(970725)\n",
        "\n",
        "x = np.random.rand(20)\n",
        "y = np.random.rand(20)\n",
        "\n",
        "\n",
        "fig = plt.figure(figsize=(16, 7))\n",
        "ax = fig.add_subplot(1, 1, 1, aspect=1)\n",
        "\n",
        "\n",
        "ax.scatter(x, y, s=150, \n",
        "           c='#1ABDE9',\n",
        "           linewidth=1.5,\n",
        "           edgecolor='black', zorder=10)\n",
        "\n",
        "\n",
        "# ax.set_xticks(np.linspace(0, 1.1, 12, endpoint=True), minor=True)\n",
        "\n",
        "ax.set_xlim(0, 1.1)\n",
        "ax.set_ylim(0, 1.1)\n",
        "\n",
        "    \n",
        "ax.grid(zorder=0, linestyle='--')    \n",
        "ax.set_title(f\"Default Grid\", fontsize=15,va= 'center', fontweight='semibold')\n",
        "\n",
        "plt.tight_layout()\n",
        "plt.show()"
      ],
      "execution_count": null,
      "outputs": []
    },
    {
      "cell_type": "markdown",
      "metadata": {
        "id": "ysu8q87h_BIX"
      },
      "source": [
        "### 1-2. x + y = c\n",
        "\n",
        "그리드 변경은 grid 속성을 변경하는 방법도 존재하지만 간단한 수식을 사용하면 쉽게 그릴 수 있습니다."
      ]
    },
    {
      "cell_type": "code",
      "metadata": {
        "id": "lcOKfG1o_BIX"
      },
      "source": [
        "fig = plt.figure(figsize=(16, 7))\n",
        "ax = fig.add_subplot(1, 1, 1, aspect=1)\n",
        "\n",
        "\n",
        "ax.scatter(x, y, s=150, \n",
        "           c=['#1ABDE9' if xx+yy < 1.0 else 'darkgray' for xx, yy in zip(x, y)],\n",
        "           linewidth=1.5,\n",
        "           edgecolor='black', zorder=10)\n",
        "\n",
        "## Grid Part\n",
        "x_start = np.linspace(0, 2.2, 12, endpoint=True)\n",
        "\n",
        "for xs in x_start:\n",
        "    ax.plot([xs, 0], [0, xs], linestyle='--', color='gray', alpha=0.5, linewidth=1)\n",
        "\n",
        "\n",
        "ax.set_xlim(0, 1.1)\n",
        "ax.set_ylim(0, 1.1)\n",
        "\n",
        "ax.set_title(r\"Grid ($x+y=c$)\", fontsize=15,va= 'center', fontweight='semibold')\n",
        "\n",
        "plt.tight_layout()\n",
        "plt.show()"
      ],
      "execution_count": null,
      "outputs": []
    },
    {
      "cell_type": "markdown",
      "metadata": {
        "id": "ymlrJCAq_BIY"
      },
      "source": [
        "### 1-3. y = cx"
      ]
    },
    {
      "cell_type": "code",
      "metadata": {
        "id": "Yfh4IwZz_BIY"
      },
      "source": [
        "fig = plt.figure(figsize=(16, 7))\n",
        "ax = fig.add_subplot(1, 1, 1, aspect=1)\n",
        "\n",
        "\n",
        "ax.scatter(x, y, s=150, \n",
        "           c=['#1ABDE9' if yy/xx >= 1.0 else 'darkgray' for xx, yy in zip(x, y)],\n",
        "           linewidth=1.5,\n",
        "           edgecolor='black', zorder=10)\n",
        "\n",
        "## Grid Part\n",
        "radian = np.linspace(0, np.pi/2, 11, endpoint=True)\n",
        "\n",
        "for rad in radian:\n",
        "    ax.plot([0,2], [0, 2*np.tan(rad)], linestyle='--', color='gray', alpha=0.5, linewidth=1)\n",
        "\n",
        "\n",
        "ax.set_xlim(0, 1.1)\n",
        "ax.set_ylim(0, 1.1)\n",
        "\n",
        "ax.set_title(r\"Grid ($y=cx$)\", fontsize=15,va= 'center', fontweight='semibold')\n",
        "\n",
        "plt.tight_layout()\n",
        "plt.show()"
      ],
      "execution_count": null,
      "outputs": []
    },
    {
      "cell_type": "markdown",
      "metadata": {
        "id": "-yNum7Av_BIY"
      },
      "source": [
        "### 1-4. 동심원"
      ]
    },
    {
      "cell_type": "code",
      "metadata": {
        "id": "gqLlvuC4_BIY"
      },
      "source": [
        "fig = plt.figure(figsize=(16, 7))\n",
        "ax = fig.add_subplot(1, 1, 1, aspect=1)\n",
        "\n",
        "\n",
        "ax.scatter(x, y, s=150, \n",
        "           c=['darkgray' if i!=2 else '#1ABDE9'  for i in range(20)] ,\n",
        "           linewidth=1.5,\n",
        "           edgecolor='black', zorder=10)\n",
        "\n",
        "## Grid Part\n",
        "rs = np.linspace(0.1, 0.8, 8, endpoint=True)\n",
        "\n",
        "for r in rs:\n",
        "    xx = r*np.cos(np.linspace(0, 2*np.pi, 100))\n",
        "    yy = r*np.sin(np.linspace(0, 2*np.pi, 100))\n",
        "    ax.plot(xx+x[2], yy+y[2], linestyle='--', color='gray', alpha=0.5, linewidth=1)\n",
        "\n",
        "    ax.text(x[2]+r*np.cos(np.pi/4), y[2]-r*np.sin(np.pi/4), f'{r:.1}', color='gray')\n",
        "\n",
        "ax.set_xlim(0, 1.1)\n",
        "ax.set_ylim(0, 1.1)\n",
        "\n",
        "ax.set_title(r\"Grid ($(x-x')^2+(y-y')^2=c$)\", fontsize=15,va= 'center', fontweight='semibold')\n",
        "\n",
        "plt.tight_layout()\n",
        "plt.show()"
      ],
      "execution_count": null,
      "outputs": []
    },
    {
      "cell_type": "markdown",
      "metadata": {
        "id": "Q4vSkrY7_BIZ"
      },
      "source": [
        "## 2. Line & Span\n",
        "\n",
        "우선 필요한 데이터를 불러오겠습니다."
      ]
    },
    {
      "cell_type": "code",
      "metadata": {
        "id": "hayejq84_BIZ"
      },
      "source": [
        "import pandas as pd \n",
        "\n",
        "student = pd.read_csv('./StudentsPerformance.csv')\n",
        "student.head()"
      ],
      "execution_count": null,
      "outputs": []
    },
    {
      "cell_type": "markdown",
      "metadata": {
        "id": "HpbBiaNo_BIZ"
      },
      "source": [
        "### 2-1. Line\n",
        "\n",
        "- `axvline()`\n",
        "- `axhline()`\n",
        "\n",
        "직교좌표계에서 평행선을 원하는 부분 그릴 수도 있습니다.\n",
        "\n",
        "선은 Plot으로 그리는게 더 편할 수 있기에 원하는 방식으로 그려주시면 됩니다."
      ]
    },
    {
      "cell_type": "code",
      "metadata": {
        "id": "wJn0K4yd_BIa"
      },
      "source": [
        "fig, ax = plt.subplots()\n",
        "\n",
        "ax.set_aspect(1)\n",
        "ax.axvline(0, color='red')\n",
        "ax.axhline(0, color='green')\n",
        "\n",
        "ax.set_xlim(-1, 1)\n",
        "ax.set_ylim(-1, 1)\n",
        "\n",
        "plt.show()"
      ],
      "execution_count": null,
      "outputs": []
    },
    {
      "cell_type": "markdown",
      "metadata": {
        "id": "O1j90Bf1_BIa"
      },
      "source": [
        "ax의 전체 구간을 0, 1로 삼아 특정 부분에만 선을 그릴 수도 있습니다.\n",
        "\n",
        "다만 다음과 같이 특정 부분을 선으로 할 때는 오히려 plot이 좋습니다."
      ]
    },
    {
      "cell_type": "code",
      "metadata": {
        "id": "ypLNUzXT_BIa"
      },
      "source": [
        "fig, ax = plt.subplots()\n",
        "\n",
        "ax.set_aspect(1)\n",
        "ax.axvline(0, ymin=0.3, ymax=0.7, color='red')\n",
        "\n",
        "ax.set_xlim(-1, 1)\n",
        "ax.set_ylim(-1, 1)\n",
        "\n",
        "plt.show()"
      ],
      "execution_count": null,
      "outputs": []
    },
    {
      "cell_type": "code",
      "metadata": {
        "id": "TmPakYrd_BIa"
      },
      "source": [
        "fig, ax = plt.subplots(figsize=(10, 10))\n",
        "ax.set_aspect(1)\n",
        "\n",
        "math_mean = student['math score'].mean()\n",
        "reading_mean = student['reading score'].mean()\n",
        "\n",
        "ax.axvline(math_mean, color='gray', linestyle='--')\n",
        "ax.axhline(reading_mean, color='gray', linestyle='--')\n",
        "\n",
        "ax.scatter(x=student['math score'], y=student['reading score'],\n",
        "           alpha=0.5,\n",
        "           color=['royalblue' if m>math_mean and r>reading_mean else 'gray'  for m, r in zip(student['math score'], student['reading score'])],\n",
        "           zorder=10,\n",
        "          )\n",
        "\n",
        "ax.set_xlabel('Math')\n",
        "ax.set_ylabel('Reading')\n",
        "\n",
        "ax.set_xlim(-3, 103)\n",
        "ax.set_ylim(-3, 103)\n",
        "plt.show()"
      ],
      "execution_count": null,
      "outputs": []
    },
    {
      "cell_type": "markdown",
      "metadata": {
        "id": "L23HKmaO_BIb"
      },
      "source": [
        "### 2-2. Span\n",
        "\n",
        "- `axvspan`\n",
        "- `axhspan`\n",
        "\n",
        "선과 함께 다음과 같이 특정 부분 면적을 표시할 수 있습니다."
      ]
    },
    {
      "cell_type": "code",
      "metadata": {
        "id": "YhagCNAe_BIb"
      },
      "source": [
        "fig, ax = plt.subplots()\n",
        "\n",
        "ax.set_aspect(1)\n",
        "ax.axvspan(0,0.5, color='red')\n",
        "ax.axhspan(0,0.5, color='green')\n",
        "\n",
        "ax.set_xlim(-1, 1)\n",
        "ax.set_ylim(-1, 1)\n",
        "\n",
        "plt.show()"
      ],
      "execution_count": null,
      "outputs": []
    },
    {
      "cell_type": "code",
      "metadata": {
        "id": "RamDVaBc_BIb"
      },
      "source": [
        "fig, ax = plt.subplots()\n",
        "\n",
        "ax.set_aspect(1)\n",
        "ax.axvspan(0,0.5, ymin=0.3, ymax=0.7, color='red')\n",
        "\n",
        "ax.set_xlim(-1, 1)\n",
        "ax.set_ylim(-1, 1)\n",
        "\n",
        "plt.show()"
      ],
      "execution_count": null,
      "outputs": []
    },
    {
      "cell_type": "markdown",
      "metadata": {
        "id": "VnPwwNC__BIc"
      },
      "source": [
        "특정 부분을 강조할 수도 있지만, 오히려 특정 부분의 주의를 없앨 수도 있습니다."
      ]
    },
    {
      "cell_type": "code",
      "metadata": {
        "id": "dKeJWgR4_BIc"
      },
      "source": [
        "fig, ax = plt.subplots(figsize=(8, 8))\n",
        "ax.set_aspect(1)\n",
        "\n",
        "math_mean = student['math score'].mean()\n",
        "reading_mean = student['reading score'].mean()\n",
        "\n",
        "ax.axvspan(-3, math_mean, color='gray', linestyle='--', zorder=0, alpha=0.3)\n",
        "ax.axhspan(-3, reading_mean, color='gray', linestyle='--', zorder=0, alpha=0.3)\n",
        "\n",
        "ax.scatter(x=student['math score'], y=student['reading score'],\n",
        "           alpha=0.4, s=20,\n",
        "           color=['royalblue' if m>math_mean and r>reading_mean else 'gray'  for m, r in zip(student['math score'], student['reading score'])],\n",
        "           zorder=10,\n",
        "          )\n",
        "\n",
        "ax.set_xlabel('Math')\n",
        "ax.set_ylabel('Reading')\n",
        "\n",
        "ax.set_xlim(-3, 103)\n",
        "ax.set_ylim(-3, 103)\n",
        "plt.show()"
      ],
      "execution_count": null,
      "outputs": []
    },
    {
      "cell_type": "markdown",
      "metadata": {
        "id": "P_41jSRi_BIc"
      },
      "source": [
        "### 2-3. Spines\n",
        "\n",
        "- `ax.spines` : 많은 요소가 있지만 대표적인 3가지를 살펴봅시다.\n",
        "    - `set_visible`  \n",
        "    - `set_linewidth`\n",
        "    - `set_position`"
      ]
    },
    {
      "cell_type": "code",
      "metadata": {
        "id": "XGQQIY31_BIc"
      },
      "source": [
        "fig = plt.figure(figsize=(12, 6))\n",
        "\n",
        "_ = fig.add_subplot(1,2,1)\n",
        "ax = fig.add_subplot(1,2,2)\n",
        "ax.spines['top'].set_visible(False)\n",
        "ax.spines['right'].set_visible(False)\n",
        "ax.spines['left'].set_linewidth(1.5)\n",
        "ax.spines['bottom'].set_linewidth(1.5)\n",
        "plt.show()"
      ],
      "execution_count": null,
      "outputs": []
    },
    {
      "cell_type": "code",
      "metadata": {
        "id": "xA55w_un_BIc"
      },
      "source": [
        "fig = plt.figure(figsize=(12, 6))\n",
        "\n",
        "_ = fig.add_subplot(1,2,1)\n",
        "ax = fig.add_subplot(1,2,2)\n",
        "ax.spines['top'].set_visible(False)\n",
        "ax.spines['right'].set_visible(False)\n",
        "\n",
        "ax.spines['left'].set_position('center')\n",
        "ax.spines['bottom'].set_position('center')\n",
        "plt.show()"
      ],
      "execution_count": null,
      "outputs": []
    },
    {
      "cell_type": "markdown",
      "metadata": {
        "id": "wFVtl9a6_BId"
      },
      "source": [
        "축은 꼭 중심 외에도 원하는 부분으로 옮길 수 있습니다.\n",
        "\n",
        "- `'center'` -> `('axes', 0.5)`\n",
        "- `'zero'` -> `('data', 0.0)`"
      ]
    },
    {
      "cell_type": "code",
      "metadata": {
        "id": "pvgNgzlZ_BId"
      },
      "source": [
        "fig = plt.figure(figsize=(12, 6))\n",
        "\n",
        "ax1 = fig.add_subplot(1,2,1)\n",
        "ax2 = fig.add_subplot(1,2,2)\n",
        "\n",
        "for ax in [ax1, ax2]:\n",
        "    ax.spines['top'].set_visible(False)\n",
        "    ax.spines['right'].set_visible(False)\n",
        "\n",
        "ax1.spines['left'].set_position('center')\n",
        "ax1.spines['bottom'].set_position('center')\n",
        "\n",
        "ax2.spines['left'].set_position(('data', 0.3))\n",
        "ax2.spines['bottom'].set_position(('axes', 0.2))\n",
        "\n",
        "ax2.set_ylim(-1, 1)\n",
        "plt.show()"
      ],
      "execution_count": null,
      "outputs": []
    },
    {
      "cell_type": "code",
      "metadata": {
        "id": "qyHxPAnX_BId"
      },
      "source": [
        "fig = plt.figure(figsize=(12, 9))\n",
        "\n",
        "ax = fig.add_subplot(aspect=1)\n",
        "\n",
        "x = np.linspace(-np.pi, np.pi, 1000)\n",
        "y = np.sin(x)\n",
        "\n",
        "ax.plot(x, y)\n",
        "\n",
        "ax.set_xlim(-np.pi, np.pi)\n",
        "ax.set_ylim(-1.2, 1.2)\n",
        "\n",
        "ax.set_xticks([-np.pi, -np.pi/2, 0, np.pi/2, np.pi])\n",
        "ax.set_xticklabels([r'$\\pi$', r'-$-\\frac{\\pi}{2}$', r'$0$', r'$\\frac{\\pi}{2}$', r'$\\pi$'],)\n",
        "\n",
        "ax.spines['top'].set_visible(False)\n",
        "ax.spines['right'].set_visible(False)\n",
        "\n",
        "ax.spines['left'].set_position('center')\n",
        "ax.spines['bottom'].set_position('center')\n",
        "plt.show()"
      ],
      "execution_count": null,
      "outputs": []
    },
    {
      "cell_type": "markdown",
      "metadata": {
        "id": "38uFwCuP_BId"
      },
      "source": [
        "## 3. Settings\n",
        "\n",
        "- [Customizing Matplotlib with style sheets and rcParams](https://matplotlib.org/stable/tutorials/introductory/customizing.html)\n",
        "\n",
        "### 3-1. mpl.rc"
      ]
    },
    {
      "cell_type": "code",
      "metadata": {
        "id": "aRO_E4aK_BId"
      },
      "source": [
        "plt.rcParams['lines.linewidth'] = 2\n",
        "plt.rcParams['lines.linestyle'] = ':'\n",
        "\n",
        "# plt.rcParams['figure.dpi'] = 150"
      ],
      "execution_count": null,
      "outputs": []
    },
    {
      "cell_type": "code",
      "metadata": {
        "id": "T-o9r4OH_BIe"
      },
      "source": [
        "plt.rc('lines', linewidth=2, linestyle=':')"
      ],
      "execution_count": null,
      "outputs": []
    },
    {
      "cell_type": "code",
      "metadata": {
        "id": "aZ8WU33A_BIe"
      },
      "source": [
        "plt.rcParams.update(plt.rcParamsDefault)"
      ],
      "execution_count": null,
      "outputs": []
    },
    {
      "cell_type": "markdown",
      "metadata": {
        "id": "HLb2FsA-_BIf"
      },
      "source": [
        "### 3-2. theme"
      ]
    },
    {
      "cell_type": "code",
      "metadata": {
        "id": "NuuOdESj_BIf"
      },
      "source": [
        "print(mpl.style.available)\n",
        "\n",
        "mpl.style.use('seaborn')\n",
        "# mpl.style.use('./CUSTOM.mplstyle') # 커스텀을 사용하고 싶다면\n",
        "\n",
        "plt.plot([1, 2, 3])"
      ],
      "execution_count": null,
      "outputs": []
    },
    {
      "cell_type": "code",
      "metadata": {
        "id": "gDAt2xHO_BIf"
      },
      "source": [
        "with plt.style.context('fivethirtyeight'):\n",
        "    plt.plot(np.sin(np.linspace(0, 2 * np.pi)))\n",
        "plt.show()"
      ],
      "execution_count": null,
      "outputs": []
    },
    {
      "cell_type": "code",
      "metadata": {
        "id": "D-lwgQ_n_BIf"
      },
      "source": [
        "plt.plot(np.sin(np.linspace(0, 2 * np.pi)))"
      ],
      "execution_count": null,
      "outputs": []
    },
    {
      "cell_type": "code",
      "metadata": {
        "id": "XGgJ0MNe_BIf"
      },
      "source": [
        ""
      ],
      "execution_count": null,
      "outputs": []
    }
  ]
}