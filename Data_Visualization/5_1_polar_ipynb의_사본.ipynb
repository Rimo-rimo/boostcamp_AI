{
  "nbformat": 4,
  "nbformat_minor": 0,
  "metadata": {
    "kernelspec": {
      "display_name": "Python 3",
      "language": "python",
      "name": "python3"
    },
    "language_info": {
      "codemirror_mode": {
        "name": "ipython",
        "version": 3
      },
      "file_extension": ".py",
      "mimetype": "text/x-python",
      "name": "python",
      "nbconvert_exporter": "python",
      "pygments_lexer": "ipython3",
      "version": "3.9.0"
    },
    "colab": {
      "name": "5-1-polar.ipynb의 사본",
      "provenance": [],
      "include_colab_link": true
    }
  },
  "cells": [
    {
      "cell_type": "markdown",
      "metadata": {
        "id": "view-in-github",
        "colab_type": "text"
      },
      "source": [
        "<a href=\"https://colab.research.google.com/github/Rimo-rimo/boostcamp_AI/blob/main/Data_Visualization/5_1_polar_ipynb%EC%9D%98_%EC%82%AC%EB%B3%B8.ipynb\" target=\"_parent\"><img src=\"https://colab.research.google.com/assets/colab-badge.svg\" alt=\"Open In Colab\"/></a>"
      ]
    },
    {
      "cell_type": "markdown",
      "metadata": {
        "id": "w0R5Yh4pieDR"
      },
      "source": [
        "# 5-1. Polar Coordinate\n",
        "\n",
        "## 1. Polar Coordinate\n",
        "\n",
        "**극 좌표계(Polar Coordinate)** 를 다루는 방법을 살펴보도록 하겠습니다.\n",
        "\n",
        "### 1-1. Polar Coordinate 만들기"
      ]
    },
    {
      "cell_type": "code",
      "metadata": {
        "id": "jN5YBv3oieDW"
      },
      "source": [
        "import numpy as np\n",
        "import pandas as pd\n",
        "import matplotlib as mpl\n",
        "import matplotlib.pyplot as plt"
      ],
      "execution_count": null,
      "outputs": []
    },
    {
      "cell_type": "markdown",
      "metadata": {
        "id": "DUPPAYHQieDX"
      },
      "source": [
        "서브플롯 `ax`를 만들 때 `projection='polar'` 파라미터를 전달하면 다음과 같이 극좌표계를 사용할 수 있습니다."
      ]
    },
    {
      "cell_type": "code",
      "metadata": {
        "id": "j62vmzx5ieDX"
      },
      "source": [
        "fig = plt.figure()\n",
        "ax = fig.add_subplot(111, projection='polar')\n",
        "plt.show()"
      ],
      "execution_count": null,
      "outputs": []
    },
    {
      "cell_type": "markdown",
      "metadata": {
        "id": "I2pgxwvMieDY"
      },
      "source": [
        "또는 `polar=True` 사용할 수 있습니다."
      ]
    },
    {
      "cell_type": "code",
      "metadata": {
        "id": "Fr-bynA_ieDY"
      },
      "source": [
        "fig = plt.figure()\n",
        "ax = fig.add_subplot(111, polar=True)\n",
        "plt.show()"
      ],
      "execution_count": null,
      "outputs": []
    },
    {
      "cell_type": "markdown",
      "metadata": {
        "id": "DENByeJpieDZ"
      },
      "source": [
        "### 1-2. Polar Coordinate 조정하기\n",
        "\n",
        "- `set_rmax` : 반지름 조정 \n",
        "    - `set_rmin`을 조정한다면? 도넛형태가 될 수 있을까??\n",
        "- `set_rticks` : 반지름 표기 grid 조정"
      ]
    },
    {
      "cell_type": "code",
      "metadata": {
        "id": "MBciKoNWieDZ"
      },
      "source": [
        "fig = plt.figure()\n",
        "ax = fig.add_subplot(111, polar=True)\n",
        "\n",
        "ax.set_rmax(2)\n",
        "# ax.set_rmin(1)\n",
        "ax.set_rticks([1, 1.5, 2])  \n",
        "\n",
        "\n",
        "plt.show()"
      ],
      "execution_count": null,
      "outputs": []
    },
    {
      "cell_type": "markdown",
      "metadata": {
        "id": "L35HaAMgieDa"
      },
      "source": [
        "- `set_rlabel_position`: 반지름 label이 적히는 위치의 각도 조정"
      ]
    },
    {
      "cell_type": "code",
      "metadata": {
        "id": "6kM-tLC7ieDa"
      },
      "source": [
        "fig = plt.figure()\n",
        "ax = fig.add_subplot(111, polar=True)\n",
        "ax.set_rlabel_position(-90)  \n",
        "plt.show()"
      ],
      "execution_count": null,
      "outputs": []
    },
    {
      "cell_type": "markdown",
      "metadata": {
        "id": "ay-g9GJ5ieDa"
      },
      "source": [
        "각도를 조종하여 부채꼴 모양 사용\n",
        "\n",
        "- `set_thetamin()` : 각도의 min값\n",
        "- `set_thetamax()` : 각도의 max값"
      ]
    },
    {
      "cell_type": "code",
      "metadata": {
        "id": "4xhTmlX4ieDa"
      },
      "source": [
        "fig = plt.figure()\n",
        "ax = fig.add_subplot(111, polar=True)\n",
        "\n",
        "ax.set_thetamin(45)\n",
        "ax.set_thetamax(135)\n",
        "plt.show()"
      ],
      "execution_count": null,
      "outputs": []
    },
    {
      "cell_type": "markdown",
      "metadata": {
        "id": "ir5HqhgUieDb"
      },
      "source": [
        "### 1-3. Polar 기본 차트\n",
        "\n",
        "- `scatter()` : 기존 산점도와 같음 (theta, r 순서)"
      ]
    },
    {
      "cell_type": "code",
      "metadata": {
        "id": "TYoCpfC-ieDb"
      },
      "source": [
        "np.random.seed(19680801)\n",
        "\n",
        "N = 100\n",
        "r = 2 * np.random.rand(N)\n",
        "theta = 2 * np.pi * np.random.rand(N)\n",
        "area = 200 * r**2\n",
        "colors = theta\n",
        "\n",
        "fig = plt.figure()\n",
        "ax = fig.add_subplot(111, projection='polar')\n",
        "c = ax.scatter(theta, r, c=colors, s=area, cmap='hsv', alpha=0.75)\n",
        "plt.show()"
      ],
      "execution_count": null,
      "outputs": []
    },
    {
      "cell_type": "markdown",
      "metadata": {
        "id": "sNlrOcLOieDb"
      },
      "source": [
        "- `bar()`"
      ]
    },
    {
      "cell_type": "code",
      "metadata": {
        "scrolled": true,
        "id": "ovchLUm7ieDb"
      },
      "source": [
        "np.random.seed(19680801)\n",
        "\n",
        "N = 6\n",
        "r = np.random.rand(N)\n",
        "theta = np.linspace(0, 2*np.pi, N, endpoint=False)\n",
        "\n",
        "fig = plt.figure()\n",
        "ax = fig.add_subplot(111, projection='polar')\n",
        "ax.bar(theta, r, width=0.5, alpha=0.5)\n",
        "plt.show()"
      ],
      "execution_count": null,
      "outputs": []
    },
    {
      "cell_type": "markdown",
      "metadata": {
        "id": "gJv7sQjQieDc"
      },
      "source": [
        "- `plot()`"
      ]
    },
    {
      "cell_type": "code",
      "metadata": {
        "id": "rEdp1rqhieDc"
      },
      "source": [
        "np.random.seed(19680801)\n",
        "\n",
        "N = 1000\n",
        "r = np.linspace(0, 1, N)\n",
        "theta = np.linspace(0, 2*np.pi, N)\n",
        "\n",
        "fig = plt.figure()\n",
        "ax = fig.add_subplot(111, projection='polar')\n",
        "ax.plot(theta, r)\n",
        "\n",
        "plt.show()"
      ],
      "execution_count": null,
      "outputs": []
    },
    {
      "cell_type": "markdown",
      "metadata": {
        "id": "rza5IE7NieDc"
      },
      "source": [
        "- `fill()`"
      ]
    },
    {
      "cell_type": "code",
      "metadata": {
        "id": "vVh4xWR0ieDc"
      },
      "source": [
        "np.random.seed(19680801)\n",
        "\n",
        "N = 1000\n",
        "r = np.linspace(0, 1, N)\n",
        "theta = np.linspace(0, 2*np.pi, N)\n",
        "\n",
        "fig = plt.figure()\n",
        "ax = fig.add_subplot(111, projection='polar')\n",
        "ax.fill(theta, r)\n",
        "plt.show()"
      ],
      "execution_count": null,
      "outputs": []
    },
    {
      "cell_type": "markdown",
      "metadata": {
        "id": "HtIxx0phieDc"
      },
      "source": [
        "## 2. Radar Chart\n",
        "\n",
        "### 2-1. Radar Chart 기본 틀 구성\n",
        "\n",
        "위의 polar coordinate의 fill을 적합하게 사용하면 Radar Chart를 사용할 수 있습니다.\n",
        "\n",
        "[Pokemon with Stat](https://www.kaggle.com/abcsds/pokemon) 데이터셋을 사용하여 만들어보겠습니다."
      ]
    },
    {
      "cell_type": "code",
      "metadata": {
        "id": "yPMaSAvxieDd"
      },
      "source": [
        "pokemon = pd.read_csv('./pokemon.csv')\n",
        "pokemon.head()"
      ],
      "execution_count": null,
      "outputs": []
    },
    {
      "cell_type": "code",
      "metadata": {
        "id": "eQThclHOieDd"
      },
      "source": [
        "pokemon.describe()"
      ],
      "execution_count": null,
      "outputs": []
    },
    {
      "cell_type": "markdown",
      "metadata": {
        "id": "vHNxYHnfieDd"
      },
      "source": [
        "데이터셋을 살펴보면 **HP, Attack, Defense, Sp.Atk, Sp.Def, Speed** 총 6가지 요소가 포켓몬의 역량을 나타내는 수치입니다.\n",
        "\n",
        "6개의 요소의 통계를 보면 얼추 비슷한 스케일임을 알 수 있습니다. 이를 fill을 사용하여 그려보도록 하겠습니다."
      ]
    },
    {
      "cell_type": "code",
      "metadata": {
        "id": "Qsa2oBdyieDd"
      },
      "source": [
        "stats = [\"HP\", \"Attack\", \"Defense\", \"Sp. Atk\", \"Sp. Def\", \"Speed\"]\n",
        "values = pokemon.iloc[0][stats].to_list()\n",
        "print(values)"
      ],
      "execution_count": null,
      "outputs": []
    },
    {
      "cell_type": "markdown",
      "metadata": {
        "id": "Bb7S5f5WieDe"
      },
      "source": [
        "각은 $2\\pi$를 6등분하면 됩니다."
      ]
    },
    {
      "cell_type": "code",
      "metadata": {
        "id": "0daOYWlmieDe"
      },
      "source": [
        "theta = np.linspace(0, 2*np.pi, 6, endpoint=False)\n",
        "print(theta)"
      ],
      "execution_count": null,
      "outputs": []
    },
    {
      "cell_type": "markdown",
      "metadata": {
        "id": "AiiUZ1O3ieDe"
      },
      "source": [
        "`fill`과 `plot`을 사용하면 다음과 같이 그릴 수 있습니다."
      ]
    },
    {
      "cell_type": "code",
      "metadata": {
        "id": "KPaUVw2sieDe"
      },
      "source": [
        "fig = plt.figure()\n",
        "ax = fig.add_subplot(111, projection='polar')\n",
        "\n",
        "ax.plot(theta, values)\n",
        "ax.fill(theta, values, alpha=0.5)\n",
        "plt.show()"
      ],
      "execution_count": null,
      "outputs": []
    },
    {
      "cell_type": "markdown",
      "metadata": {
        "id": "NoWU1M41ieDe"
      },
      "source": [
        "끝 점을 포함하기 위해 마지막 데이터를 포함시킵니다."
      ]
    },
    {
      "cell_type": "code",
      "metadata": {
        "id": "oHGcKoPTieDe"
      },
      "source": [
        "fig = plt.figure()\n",
        "ax = fig.add_subplot(111, projection='polar')\n",
        "\n",
        "values.append(values[0])\n",
        "theta = theta.tolist() + [theta[0]]\n",
        "\n",
        "ax.plot(theta, values)\n",
        "ax.fill(theta, values, alpha=0.5)\n",
        "\n",
        "plt.show()\n",
        "\n",
        "print(values)\n",
        "print(theta)"
      ],
      "execution_count": null,
      "outputs": []
    },
    {
      "cell_type": "markdown",
      "metadata": {
        "id": "gYzUSPX7ieDf"
      },
      "source": [
        "### 2-2. 커스텀 및 조정\n",
        "\n",
        "- `set_thetagrids` : 각도에 따른 그리드 및 ticklabels 변경\n",
        "- `set_theta_offset` : 시작 각도 변경 "
      ]
    },
    {
      "cell_type": "code",
      "metadata": {
        "id": "0aVFT74fieDf"
      },
      "source": [
        "fig = plt.figure(figsize=(4, 4))\n",
        "ax = fig.add_subplot(111, projection='polar')\n",
        "\n",
        "values = pokemon.iloc[0][stats].to_list()\n",
        "values.append(values[0])\n",
        "\n",
        "ax.plot(theta, values)\n",
        "ax.fill(theta, values, alpha=0.5)\n",
        "\n",
        "ax.set_thetagrids([n*60 for n in range(6)], stats)\n",
        "ax.set_theta_offset(np.pi/2)\n",
        "\n",
        "plt.show()"
      ],
      "execution_count": null,
      "outputs": []
    },
    {
      "cell_type": "markdown",
      "metadata": {
        "id": "h_TBwqs-ieDf"
      },
      "source": [
        "이제 3개의 순차적 데이터를 비교해보도록 하겠습니다."
      ]
    },
    {
      "cell_type": "code",
      "metadata": {
        "id": "Z2AX4mqtieDf"
      },
      "source": [
        "fig = plt.figure(figsize=(14, 4))\n",
        "\n",
        "for idx in range(3):\n",
        "    ax = fig.add_subplot(1,3,idx+1, projection='polar')\n",
        "\n",
        "    values = pokemon.iloc[idx][stats].to_list()\n",
        "    values.append(values[0])\n",
        "\n",
        "\n",
        "    ax.plot(theta, values, color='forestgreen')\n",
        "    ax.fill(theta, values, color='forestgreen', alpha=0.3)\n",
        "    \n",
        "    ax.set_rmax(100)\n",
        "    ax.set_thetagrids([n*60 for n in range(6)], stats)\n",
        "    ax.set_theta_offset(np.pi/2)\n",
        "    \n",
        "plt.show()\n"
      ],
      "execution_count": null,
      "outputs": []
    },
    {
      "cell_type": "code",
      "metadata": {
        "id": "abiUnmxEieDg"
      },
      "source": [
        "fig = plt.figure(figsize=(7, 7))\n",
        "\n",
        "ax = fig.add_subplot(111, projection='polar')\n",
        "\n",
        "for idx in range(3):\n",
        "\n",
        "\n",
        "    values = pokemon.iloc[idx][stats].to_list()\n",
        "    values.append(values[0])\n",
        "\n",
        "    ax.plot(theta, values, color='forestgreen')\n",
        "    ax.fill(theta, values, color='forestgreen', alpha=0.3)\n",
        "    \n",
        "ax.set_rmax(110)\n",
        "ax.set_thetagrids([n*60 for n in range(6)], stats)\n",
        "ax.set_theta_offset(np.pi/2)\n",
        "    \n",
        "plt.show()\n"
      ],
      "execution_count": null,
      "outputs": []
    },
    {
      "cell_type": "markdown",
      "metadata": {
        "id": "jpN558YmieDg"
      },
      "source": [
        "- Radar Chart : https://matplotlib.org/stable/gallery/specialty_plots/radar_chart.html"
      ]
    },
    {
      "cell_type": "code",
      "metadata": {
        "id": "40noM6MmieDg"
      },
      "source": [
        ""
      ],
      "execution_count": null,
      "outputs": []
    }
  ]
}