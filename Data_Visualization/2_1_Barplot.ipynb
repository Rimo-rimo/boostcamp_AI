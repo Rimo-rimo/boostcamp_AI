{
  "nbformat": 4,
  "nbformat_minor": 0,
  "metadata": {
    "kernelspec": {
      "display_name": "Python 3",
      "language": "python",
      "name": "python3"
    },
    "language_info": {
      "codemirror_mode": {
        "name": "ipython",
        "version": 3
      },
      "file_extension": ".py",
      "mimetype": "text/x-python",
      "name": "python",
      "nbconvert_exporter": "python",
      "pygments_lexer": "ipython3",
      "version": "3.8.0"
    },
    "colab": {
      "name": "2-1-Barplot.ipynb",
      "provenance": [],
      "include_colab_link": true
    }
  },
  "cells": [
    {
      "cell_type": "markdown",
      "metadata": {
        "id": "view-in-github",
        "colab_type": "text"
      },
      "source": [
        "<a href=\"https://colab.research.google.com/github/Rimo-rimo/boostcamp_AI/blob/main/Data_Visualization/2_1_Barplot.ipynb\" target=\"_parent\"><img src=\"https://colab.research.google.com/assets/colab-badge.svg\" alt=\"Open In Colab\"/></a>"
      ]
    },
    {
      "cell_type": "markdown",
      "metadata": {
        "id": "tn9YInVL58Zu"
      },
      "source": [
        "# 1-1. Bar Plot 사용하기\n",
        "\n",
        "## 1. 기본 Bar Plot\n",
        "\n",
        "- `bar()` : 기본적인 bar plot\n",
        "- `barh()` : horizontal bar plot"
      ]
    },
    {
      "cell_type": "code",
      "metadata": {
        "id": "y9NQntra58Z0"
      },
      "source": [
        "import numpy as np\n",
        "import pandas as pd\n",
        "import matplotlib as mpl\n",
        "import matplotlib.pyplot as plt"
      ],
      "execution_count": null,
      "outputs": []
    },
    {
      "cell_type": "markdown",
      "metadata": {
        "id": "hpk4A2SG58Z0"
      },
      "source": [
        "x와 y를 5개 정도로 세팅해서 예시 플롯을 만들어보겠습니다."
      ]
    },
    {
      "cell_type": "code",
      "metadata": {
        "id": "nmjdvTPi58Z1"
      },
      "source": [
        "fig, axes = plt.subplots(1, 2, figsize=(12, 7))\n",
        "\n",
        "x = list('ABCDE')\n",
        "y = np.array([1, 2, 3, 4, 5])\n",
        "\n",
        "axes[0].bar(x, y)\n",
        "axes[1].barh(x, y)\n",
        "\n",
        "plt.show()"
      ],
      "execution_count": null,
      "outputs": []
    },
    {
      "cell_type": "code",
      "metadata": {
        "id": "Zzlj7Kl058Z1"
      },
      "source": [
        "# 강의에서 다루지는 않았지만 막대 그래프의 색은 \n",
        "# 다음과 같이 변경을 전체로 하거나, 개별로 할 수도 있습니다. \n",
        "# 개별로 할 때는 막대 개수와 같이 색을 리스트로 전해야 합니다.\n",
        "# 색에 대해 구체적인 내용은 3차트의 요소-2색에서 다룹니다.\n",
        "\n",
        "fig, axes = plt.subplots(1, 2, figsize=(12, 7))\n",
        "\n",
        "x = list('ABCDE')\n",
        "y = np.array([1, 2, 3, 4, 5])\n",
        "\n",
        "clist = ['blue', 'gray', 'gray', 'gray', 'red']\n",
        "color = 'green'\n",
        "axes[0].bar(x, y, color=clist)\n",
        "axes[1].barh(x, y, color=color)\n",
        "\n",
        "plt.show()"
      ],
      "execution_count": null,
      "outputs": []
    },
    {
      "cell_type": "markdown",
      "metadata": {
        "id": "fDk8LNzV58Z2"
      },
      "source": [
        "## 2. 다양한 Bar Plot\n",
        "\n",
        "### 2-0. 데이터 준비하기\n",
        "\n",
        "이제 교육용 데이터셋으로 막대 그래프를 사용해보겠습니다.\n",
        "\n",
        "데이터는 Student Score Dataset입니다. [link](http://roycekimmons.com/tools/generated_data/exams)\n",
        "\n",
        "- 1000명 학생 데이터 \n",
        "- feature에 대한 정보는 `head()`, `describe()`, `info()` 등으로 확인하고\n",
        "- `unique()`, `value_counts()` 등으로 종류나 큰 분포 확인\n",
        "- feautre들\n",
        "    - **성별** : female / male\n",
        "    - **인종민족** : group A, B, C, D, E\n",
        "    - **부모님 최종 학력** : 고등학교 졸업, 전문대, 학사 학위, 석사 학위, 2년제 졸업\n",
        "    - **점심** : standard와 free/reduced\n",
        "    - **시험 예습** : none과 completed\n",
        "    - **수학, 읽기, 쓰기 성적** (0~100)\n"
      ]
    },
    {
      "cell_type": "code",
      "metadata": {
        "id": "1WOfrZ2n58Z2"
      },
      "source": [
        "student = pd.read_csv('./StudentsPerformance.csv')\n",
        "student.sample(5)"
      ],
      "execution_count": null,
      "outputs": []
    },
    {
      "cell_type": "code",
      "metadata": {
        "id": "mBijdN-r58Z3"
      },
      "source": [
        "student.info()"
      ],
      "execution_count": null,
      "outputs": []
    },
    {
      "cell_type": "code",
      "metadata": {
        "id": "RJPjdRBH58Z3"
      },
      "source": [
        "student.describe(include='all')"
      ],
      "execution_count": null,
      "outputs": []
    },
    {
      "cell_type": "markdown",
      "metadata": {
        "id": "zs5cJXJw58Z3"
      },
      "source": [
        "그룹에 따른 정보를 시각화해봅시다. \n",
        "\n",
        "> 성별에 따른 race/ethincity 분포\n",
        "\n",
        "코드로는 다음과 같이 쉽게 구할 수 있습니다.\n"
      ]
    },
    {
      "cell_type": "code",
      "metadata": {
        "id": "BWiwWGel58Z3"
      },
      "source": [
        "group = student.groupby('gender')['race/ethnicity'].value_counts().sort_index()\n",
        "display(group)\n",
        "print(student['gender'].value_counts())"
      ],
      "execution_count": null,
      "outputs": []
    },
    {
      "cell_type": "markdown",
      "metadata": {
        "id": "tkU1duJF58Z4"
      },
      "source": [
        "### 2-1. Multiple Bar Plot\n",
        "\n",
        "우선 기본적으로 그려보겠습니다."
      ]
    },
    {
      "cell_type": "code",
      "metadata": {
        "id": "arBahcnm58Z4"
      },
      "source": [
        "fig, axes = plt.subplots(1, 2, figsize=(15, 7))\n",
        "axes[0].bar(group['male'].index, group['male'], color='royalblue')\n",
        "axes[1].bar(group['female'].index, group['female'], color='tomato')\n",
        "plt.show()"
      ],
      "execution_count": null,
      "outputs": []
    },
    {
      "cell_type": "markdown",
      "metadata": {
        "id": "EbWIcCZD58Z4"
      },
      "source": [
        "각 barplot은 자체적으로 y 범위를 맞추기에 좀 더 y축의 범위를 공유할 수 있습니다.\n",
        "\n",
        "방법1은 subplot을 만들 때, `sharey` 파라미터를 사용하는 방법입니다."
      ]
    },
    {
      "cell_type": "code",
      "metadata": {
        "id": "uQyqyHqJ58Z4"
      },
      "source": [
        "fig, axes = plt.subplots(1, 2, figsize=(15, 7), sharey=True)\n",
        "axes[0].bar(group['male'].index, group['male'], color='royalblue')\n",
        "axes[1].bar(group['female'].index, group['female'], color='tomato')\n",
        "plt.show()"
      ],
      "execution_count": null,
      "outputs": []
    },
    {
      "cell_type": "markdown",
      "metadata": {
        "id": "FZLBU0qO58Z5"
      },
      "source": [
        "방법2는 y축 범위를 개별적으로 조정하는 방법입니다. 이렇게 할 때는 반복문을 사용하여 조정하는 방법을 선호합니다."
      ]
    },
    {
      "cell_type": "code",
      "metadata": {
        "id": "045rBqKa58Z5"
      },
      "source": [
        "fig, axes = plt.subplots(1, 2, figsize=(15, 7))\n",
        "axes[0].bar(group['male'].index, group['male'], color='royalblue')\n",
        "axes[1].bar(group['female'].index, group['female'], color='tomato')\n",
        "\n",
        "for ax in axes:\n",
        "    ax.set_ylim(0, 200)\n",
        "    \n",
        "plt.show()"
      ],
      "execution_count": null,
      "outputs": []
    },
    {
      "cell_type": "markdown",
      "metadata": {
        "id": "B-w4fpwc58Z5"
      },
      "source": [
        "Group간의 비교가 어렵다는 단점이 있습니다."
      ]
    },
    {
      "cell_type": "markdown",
      "metadata": {
        "id": "BTB3Wpt458Z5"
      },
      "source": [
        "### 2-2. Stacked Bar Plot\n",
        "\n",
        "쌓아서 보면 그룹 A, B, C, D, E에 대한 전체 비율은 알기 쉽습니다.\n",
        "\n",
        "\n",
        "`bottom` 파라미터를 사용해서 아래 공간을 비워둘 수 있습니다."
      ]
    },
    {
      "cell_type": "code",
      "metadata": {
        "id": "ZbucIuVT58Z5"
      },
      "source": [
        "fig, axes = plt.subplots(1, 2, figsize=(15, 7))\n",
        "\n",
        "group_cnt = student['race/ethnicity'].value_counts().sort_index()\n",
        "axes[0].bar(group_cnt.index, group_cnt, color='darkgray')\n",
        "axes[1].bar(group['male'].index, group['male'], color='royalblue')\n",
        "axes[1].bar(group['female'].index, group['female'], bottom=group['male'], color='tomato')\n",
        "\n",
        "for ax in axes:\n",
        "    ax.set_ylim(0, 350)\n",
        "    \n",
        "plt.show()"
      ],
      "execution_count": null,
      "outputs": []
    },
    {
      "cell_type": "markdown",
      "metadata": {
        "id": "TgRw5p6a58Z6"
      },
      "source": [
        "\n",
        "### 2-3. Percentage Stacked Bar Plot\n",
        "\n",
        "좀 더 advanced한 테크닉을 사용한다면 다음과 같습니다."
      ]
    },
    {
      "cell_type": "code",
      "metadata": {
        "id": "45wUi-Wt58Z6"
      },
      "source": [
        "fig, ax = plt.subplots(1, 1, figsize=(12, 7))\n",
        "\n",
        "group = group.sort_index(ascending=False) # 역순 정렬\n",
        "total=group['male']+group['female'] # 각 그룹별 합\n",
        "\n",
        "\n",
        "ax.barh(group['male'].index, group['male']/total, \n",
        "        color='royalblue')\n",
        "\n",
        "ax.barh(group['female'].index, group['female']/total, \n",
        "        left=group['male']/total, \n",
        "        color='tomato')\n",
        "\n",
        "ax.set_xlim(0, 1)\n",
        "for s in ['top', 'bottom', 'left', 'right']:\n",
        "    ax.spines[s].set_visible(False)\n",
        "\n",
        "plt.show()"
      ],
      "execution_count": null,
      "outputs": []
    },
    {
      "cell_type": "markdown",
      "metadata": {
        "id": "e3sB5jw358Z6"
      },
      "source": [
        "### 2-4. Overlapped Bar Plot\n",
        "\n",
        "겹치는 투명도는 꼭 정해진 것이 아닌 다양한 실험을 통해 선택하면 됩니다."
      ]
    },
    {
      "cell_type": "code",
      "metadata": {
        "id": "gue0NF7W58Z6"
      },
      "source": [
        "group = group.sort_index() # 다시 정렬\n",
        "\n",
        "fig, axes = plt.subplots(2, 2, figsize=(12, 12))\n",
        "axes = axes.flatten()\n",
        "\n",
        "for idx, alpha in enumerate([1, 0.7, 0.5, 0.3]):\n",
        "    axes[idx].bar(group['male'].index, group['male'], \n",
        "                  color='royalblue', \n",
        "                  alpha=alpha)\n",
        "    axes[idx].bar(group['female'].index, group['female'],\n",
        "                  color='tomato',\n",
        "                  alpha=alpha)\n",
        "    axes[idx].set_title(f'Alpha = {alpha}')\n",
        "    \n",
        "for ax in axes:\n",
        "    ax.set_ylim(0, 200)\n",
        "    \n",
        "    \n",
        "plt.show()"
      ],
      "execution_count": null,
      "outputs": []
    },
    {
      "cell_type": "markdown",
      "metadata": {
        "id": "hGP8I2EL58Z6"
      },
      "source": [
        "### 2-5. Grouped Bar Plot\n",
        "\n",
        "크게 3가지 테크닉으로 구현 가능합니다.\n",
        "\n",
        "- x축 조정\n",
        "- `width`  조정\n",
        "- `xticks`, `xticklabels`\n",
        "\n",
        "원래 x축이 0, 1, 2, 3로 시작한다면\n",
        "    - 한 그래프는 0-width/2, 1-width/2, 2-width/2 로 구성하면 되고\n",
        "    - 한 그래프는 0+width/2, 1+width/2, 2+width/2 로 구성하면 됩니다."
      ]
    },
    {
      "cell_type": "code",
      "metadata": {
        "id": "kKJ9ok4258Z7"
      },
      "source": [
        "fig, ax = plt.subplots(1, 1, figsize=(12, 7))\n",
        "\n",
        "idx = np.arange(len(group['male'].index))\n",
        "width=0.35\n",
        "\n",
        "ax.bar(idx-width/2, group['male'], \n",
        "       color='royalblue',\n",
        "       width=width)\n",
        "\n",
        "ax.bar(idx+width/2, group['female'], \n",
        "       color='tomato',\n",
        "       width=width)\n",
        "\n",
        "ax.set_xticks(idx)\n",
        "ax.set_xticklabels(group['male'].index)\n",
        "    \n",
        "plt.show()"
      ],
      "execution_count": null,
      "outputs": []
    },
    {
      "cell_type": "markdown",
      "metadata": {
        "id": "M_GcaayZ58Z7"
      },
      "source": [
        "그리고 추가적으로 label + legend를 달아 색에 대한 설명도 추가하면 좋습니다."
      ]
    },
    {
      "cell_type": "code",
      "metadata": {
        "id": "ysVCO0JU58Z7"
      },
      "source": [
        "fig, ax = plt.subplots(1, 1, figsize=(12, 7))\n",
        "\n",
        "idx = np.arange(len(group['male'].index))\n",
        "width=0.35\n",
        "\n",
        "ax.bar(idx-width/2, group['male'], \n",
        "       color='royalblue',\n",
        "       width=width, label='Male')\n",
        "\n",
        "ax.bar(idx+width/2, group['female'], \n",
        "       color='tomato',\n",
        "       width=width, label='Female')\n",
        "\n",
        "ax.set_xticks(idx)\n",
        "ax.set_xticklabels(group['male'].index)\n",
        "ax.legend()    \n",
        "    \n",
        "plt.show()"
      ],
      "execution_count": null,
      "outputs": []
    },
    {
      "cell_type": "markdown",
      "metadata": {
        "id": "DDO3Jswm58Z8"
      },
      "source": [
        "그렇다면 그룹이 N개 일때는 어떻게 하면 될까요?\n",
        "\n",
        "그룹의 개수에 따라 x좌표는 다음과 같습니다.\n",
        "\n",
        "- 2개 : -1/2, +1/2\n",
        "- 3개 : -1, 0, +1 (-2/2, 0, +2/2)\n",
        "- 4개 : -3/2, -1/2, +1/2, +3/2\n",
        "\n",
        "규칙이 보이시나요?\n",
        "\n",
        "$-\\frac{N-1}{2}$에서 $\\frac{N-1}{2}$까지 분자에 2간격으로 커지는 것이 특징입니다.\n",
        "\n",
        "\n",
        "그렇다면 index i(zero-index)에 대해서는 다음과 같이 x좌표를 계산할 수 있습니다.\n",
        "\n",
        "$x+\\frac{-N+1+2\\times i}{2}\\times width$\n",
        "\n",
        "이번엔 인종/민족 그룹에 따른 Parental Level of Education Grouped Bar Plot으로 그려보겠습니다."
      ]
    },
    {
      "cell_type": "code",
      "metadata": {
        "id": "zF9abJt658Z8"
      },
      "source": [
        "group = student.groupby('parental level of education')['race/ethnicity'].value_counts().sort_index()\n",
        "group_list = sorted(student['race/ethnicity'].unique())\n",
        "edu_lv = student['parental level of education'].unique()"
      ],
      "execution_count": null,
      "outputs": []
    },
    {
      "cell_type": "code",
      "metadata": {
        "id": "Fo09bHKL58Z8"
      },
      "source": [
        "fig, ax = plt.subplots(1, 1, figsize=(13, 7))\n",
        "\n",
        "x = np.arange(len(group_list))\n",
        "width=0.12\n",
        "\n",
        "for idx, g in enumerate(edu_lv):\n",
        "    ax.bar(x+(-len(edu_lv)+1+2*idx)*width/2, group[g], \n",
        "       width=width, label=g)\n",
        "\n",
        "ax.set_xticks(x)\n",
        "ax.set_xticklabels(group_list)\n",
        "ax.legend()    \n",
        "    \n",
        "plt.show()"
      ],
      "execution_count": null,
      "outputs": []
    },
    {
      "cell_type": "markdown",
      "metadata": {
        "id": "JV0afJnc58Z8"
      },
      "source": [
        "## 3. 정확한 Bar Plot\n",
        "\n",
        "### 3-1. Principle of Proportion Ink\n",
        "\n",
        "성별에 따른 성적을 막대그래프로 비교해보겠습니다."
      ]
    },
    {
      "cell_type": "code",
      "metadata": {
        "id": "RjY1Vj7g58Z8"
      },
      "source": [
        "score = student.groupby('gender').mean().T\n",
        "score"
      ],
      "execution_count": null,
      "outputs": []
    },
    {
      "cell_type": "code",
      "metadata": {
        "id": "1chGUcJ258Z9"
      },
      "source": [
        "fig, axes = plt.subplots(1, 2, figsize=(15, 7))\n",
        "\n",
        "idx = np.arange(len(score.index))\n",
        "width=0.3\n",
        "\n",
        "for ax in axes:\n",
        "    ax.bar(idx-width/2, score['male'], \n",
        "           color='royalblue',\n",
        "           width=width)\n",
        "\n",
        "    ax.bar(idx+width/2, score['female'], \n",
        "           color='tomato',\n",
        "           width=width)\n",
        "\n",
        "    ax.set_xticks(idx)\n",
        "    ax.set_xticklabels(score.index)\n",
        "\n",
        "axes[0].set_ylim(60, 75)\n",
        "    \n",
        "plt.show()"
      ],
      "execution_count": null,
      "outputs": []
    },
    {
      "cell_type": "markdown",
      "metadata": {
        "id": "loiXACzq58Z9"
      },
      "source": [
        "비교를 위한다면 세로를 늘리는 게 더 좋을 수 있습니다."
      ]
    },
    {
      "cell_type": "code",
      "metadata": {
        "id": "Ce1lqrxn58Z9"
      },
      "source": [
        "fig, ax = plt.subplots(1, 1, figsize=(6, 10))\n",
        "\n",
        "idx = np.arange(len(score.index))\n",
        "width=0.3\n",
        "\n",
        "ax.bar(idx-width/2, score['male'], \n",
        "       color='royalblue',\n",
        "       width=width)\n",
        "\n",
        "ax.bar(idx+width/2, score['female'], \n",
        "       color='tomato',\n",
        "       width=width)\n",
        "\n",
        "ax.set_xticks(idx)\n",
        "ax.set_xticklabels(score.index)\n",
        "\n",
        "\n",
        "    \n",
        "plt.show()"
      ],
      "execution_count": null,
      "outputs": []
    },
    {
      "cell_type": "markdown",
      "metadata": {
        "id": "I_daiBUg58Z9"
      },
      "source": [
        "### 3-2 데이터 정렬하기"
      ]
    },
    {
      "cell_type": "code",
      "metadata": {
        "id": "H_v-iL8558Z9"
      },
      "source": [
        "student.head()"
      ],
      "execution_count": null,
      "outputs": []
    },
    {
      "cell_type": "markdown",
      "metadata": {
        "id": "VpR3gFDT58Z9"
      },
      "source": [
        "### 3-3. 적절한 공간 활용 \n",
        "\n",
        "다양한 공간 테크닉을 살펴보겠습니다.\n",
        "\n",
        "대조군을 위해 2개의 같은 플롯을 그려보겠습니다.\n",
        "\n",
        "- X/Y axis Limit (`.set_xlim()`, `.set_ylime()`)\n",
        "- Margins (`.margins()`)\n",
        "- Gap (`width`)\n",
        "- Spines (`.spines[spine].set_visible()`)\n"
      ]
    },
    {
      "cell_type": "code",
      "metadata": {
        "id": "GWvUIoPE58Z-"
      },
      "source": [
        "group_cnt = student['race/ethnicity'].value_counts().sort_index()\n",
        "\n",
        "fig = plt.figure(figsize=(15, 7))\n",
        "\n",
        "ax_basic = fig.add_subplot(1, 2, 1)\n",
        "ax = fig.add_subplot(1, 2, 2)\n",
        "\n",
        "ax_basic.bar(group_cnt.index, group_cnt)\n",
        "ax.bar(group_cnt.index, group_cnt,\n",
        "       width=0.7,\n",
        "       edgecolor='black',\n",
        "       linewidth=2,\n",
        "       color='royalblue'\n",
        "      )\n",
        "\n",
        "ax.margins(0.1, 0.1)\n",
        "\n",
        "for s in ['top', 'right']:\n",
        "    ax.spines[s].set_visible(False)\n",
        "\n",
        "plt.show()"
      ],
      "execution_count": null,
      "outputs": []
    },
    {
      "cell_type": "markdown",
      "metadata": {
        "id": "n6ErJwAE58Z-"
      },
      "source": [
        "### 3-4. 복잡함과 단순함\n",
        "\n",
        "그리드나 텍스트를 추가해보며 어떤 게 더 좋을지 고민해보겠습니다."
      ]
    },
    {
      "cell_type": "code",
      "metadata": {
        "id": "zeFomv7m58Z-"
      },
      "source": [
        "group_cnt = student['race/ethnicity'].value_counts().sort_index()\n",
        "\n",
        "fig, axes = plt.subplots(1, 2, figsize=(15, 7))\n",
        "\n",
        "for ax in axes:\n",
        "    ax.bar(group_cnt.index, group_cnt,\n",
        "           width=0.7,\n",
        "           edgecolor='black',\n",
        "           linewidth=2,\n",
        "           color='royalblue',\n",
        "           zorder=10\n",
        "          )\n",
        "\n",
        "    ax.margins(0.1, 0.1)\n",
        "\n",
        "    for s in ['top', 'right']:\n",
        "        ax.spines[s].set_visible(False)\n",
        "\n",
        "axes[1].grid(zorder=0)\n",
        "\n",
        "for idx, value in zip(group_cnt.index, group_cnt):\n",
        "    axes[1].text(idx, value+5, s=value,\n",
        "                 ha='center', \n",
        "                 fontweight='bold'\n",
        "                )\n",
        "        \n",
        "plt.show()"
      ],
      "execution_count": null,
      "outputs": []
    },
    {
      "cell_type": "markdown",
      "metadata": {
        "id": "yodFb0qU58Z-"
      },
      "source": [
        "### 3-5. ETC\n",
        "\n",
        "오차막대(`errorbar`)를 사용하여 편차 등의 정보를 추가해보겠습니다."
      ]
    },
    {
      "cell_type": "code",
      "metadata": {
        "id": "uZfwlBAz58Z-"
      },
      "source": [
        "score_var = student.groupby('gender').std().T\n",
        "score_var"
      ],
      "execution_count": null,
      "outputs": []
    },
    {
      "cell_type": "code",
      "metadata": {
        "id": "cugesCz_58Z_"
      },
      "source": [
        "fig, ax = plt.subplots(1, 1, figsize=(10, 10))\n",
        "\n",
        "idx = np.arange(len(score.index))\n",
        "width=0.3\n",
        "\n",
        "\n",
        "ax.bar(idx-width/2, score['male'], \n",
        "       color='royalblue',\n",
        "       width=width,\n",
        "       label='Male',\n",
        "       yerr=score_var['male'],\n",
        "       capsize=10\n",
        "      )\n",
        "\n",
        "ax.bar(idx+width/2, score['female'], \n",
        "       color='tomato',\n",
        "       width=width,\n",
        "       label='Female',\n",
        "       yerr=score_var['female'],\n",
        "       capsize=10\n",
        "      )\n",
        "\n",
        "ax.set_xticks(idx)\n",
        "ax.set_xticklabels(score.index)\n",
        "ax.set_ylim(0, 100)\n",
        "ax.spines['top'].set_visible(False)\n",
        "ax.spines['right'].set_visible(False)\n",
        "\n",
        "ax.legend()\n",
        "ax.set_title('Gender / Score', fontsize=20)\n",
        "ax.set_xlabel('Subject', fontweight='bold')\n",
        "ax.set_ylabel('Score', fontweight='bold')\n",
        "\n",
        "plt.show()"
      ],
      "execution_count": null,
      "outputs": []
    },
    {
      "cell_type": "code",
      "metadata": {
        "id": "mCjGgUI058Z_"
      },
      "source": [
        ""
      ],
      "execution_count": null,
      "outputs": []
    }
  ]
}