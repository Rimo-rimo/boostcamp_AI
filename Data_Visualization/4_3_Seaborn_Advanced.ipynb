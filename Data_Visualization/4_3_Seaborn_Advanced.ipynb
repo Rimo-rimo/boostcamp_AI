{
  "nbformat": 4,
  "nbformat_minor": 0,
  "metadata": {
    "kernelspec": {
      "display_name": "Python 3",
      "language": "python",
      "name": "python3"
    },
    "language_info": {
      "codemirror_mode": {
        "name": "ipython",
        "version": 3
      },
      "file_extension": ".py",
      "mimetype": "text/x-python",
      "name": "python",
      "nbconvert_exporter": "python",
      "pygments_lexer": "ipython3",
      "version": "3.8.0"
    },
    "colab": {
      "name": "4-3-Seaborn-Advanced.ipynb",
      "provenance": [],
      "include_colab_link": true
    }
  },
  "cells": [
    {
      "cell_type": "markdown",
      "metadata": {
        "id": "view-in-github",
        "colab_type": "text"
      },
      "source": [
        "<a href=\"https://colab.research.google.com/github/Rimo-rimo/boostcamp_AI/blob/main/Data_Visualization/4_3_Seaborn_Advanced.ipynb\" target=\"_parent\"><img src=\"https://colab.research.google.com/assets/colab-badge.svg\" alt=\"Open In Colab\"/></a>"
      ]
    },
    {
      "cell_type": "markdown",
      "metadata": {
        "id": "JwefTFIze3Z1"
      },
      "source": [
        "# 4-3. Seaborn Advanced\n",
        "\n",
        "이번에는 여러 차트를 사용하여 정보량을 높이는 방법에 대해 다뤄보도록 하겠습니다.\n",
        "\n",
        "이전에는 ax에 하나를 그리는 방법이었다면, 이제는 Figure-Level로 전체적인 시각화를 그리는 API입니다.\n",
        "\n",
        "- jointplot\n",
        "- pairplot \n",
        "- FacetGrid"
      ]
    },
    {
      "cell_type": "code",
      "metadata": {
        "id": "mBrQd9yxe3Z7"
      },
      "source": [
        "import numpy as np \n",
        "import pandas as pd\n",
        "import matplotlib as mpl\n",
        "import matplotlib.pyplot as plt\n",
        "import seaborn as sns\n",
        "\n",
        "student = pd.read_csv('./StudentsPerformance.csv')\n",
        "iris = pd.read_csv('./iris.csv')"
      ],
      "execution_count": null,
      "outputs": []
    },
    {
      "cell_type": "markdown",
      "metadata": {
        "id": "veMBBGY-e3Z8"
      },
      "source": [
        "## 1. Joint Plot\n",
        "\n",
        "이미 distribution api에서 결합확률 분포를 시각화하는 다양한 함수를 살펴보았습니다.\n",
        "\n",
        "joint plot은 그런 2개 피처의 결합확률 분포와 함께 각각의 분포도 살필 수 있는 시각화를 제공합니다."
      ]
    },
    {
      "cell_type": "code",
      "metadata": {
        "id": "mf-j_4nNe3Z8"
      },
      "source": [
        "sns.jointplot(x='math score', y='reading score',data=student,\n",
        "             height=7)"
      ],
      "execution_count": null,
      "outputs": []
    },
    {
      "cell_type": "markdown",
      "metadata": {
        "id": "v6VXjMvLe3Z9"
      },
      "source": [
        "hue를 사용하여 구분할 수 있습니다."
      ]
    },
    {
      "cell_type": "code",
      "metadata": {
        "id": "MhQN5pHze3Z9"
      },
      "source": [
        "sns.jointplot(x='math score', y='reading score',data=student,\n",
        "              hue='gender'\n",
        "             )"
      ],
      "execution_count": null,
      "outputs": []
    },
    {
      "cell_type": "markdown",
      "metadata": {
        "id": "aSVPRfxXe3Z9"
      },
      "source": [
        "다양한 종류로 분포를 확인할 수 있습니다."
      ]
    },
    {
      "cell_type": "code",
      "metadata": {
        "id": "9EUOoNsve3Z-"
      },
      "source": [
        "sns.jointplot(x='math score', y='reading score',data=student,\n",
        "#               hue='gender', \n",
        "              kind='reg', # { “scatter” | “kde” | “hist” | “hex” | “reg” | “resid” }, \n",
        "#               fill=True\n",
        "             )"
      ],
      "execution_count": null,
      "outputs": []
    },
    {
      "cell_type": "markdown",
      "metadata": {
        "id": "IZMlYheEe3Z-"
      },
      "source": [
        "## 2. Pair Plot\n",
        "\n",
        "데이터셋의 pair-wise 관계를 시각화하는 함수입니다."
      ]
    },
    {
      "cell_type": "code",
      "metadata": {
        "id": "TJhVoAyqe3Z-"
      },
      "source": [
        "iris.head()"
      ],
      "execution_count": null,
      "outputs": []
    },
    {
      "cell_type": "code",
      "metadata": {
        "id": "I2mQEpHye3Z_"
      },
      "source": [
        "sns.pairplot(data=iris)"
      ],
      "execution_count": null,
      "outputs": []
    },
    {
      "cell_type": "code",
      "metadata": {
        "id": "gwvquBHte3Z_"
      },
      "source": [
        "sns.pairplot(data=iris, hue='Species')"
      ],
      "execution_count": null,
      "outputs": []
    },
    {
      "cell_type": "markdown",
      "metadata": {
        "id": "lbNK9KJye3Z_"
      },
      "source": [
        "2가지 변수를 사용하여 시각화 방법을 조정할 수 있습니다.\n",
        "\n",
        "`kind`는 전체 서브플롯, `diag_kind`는 대각 서브플롯을 조정합니다.\n",
        "\n",
        "- `kind` : {‘scatter’, ‘kde’, ‘hist’, ‘reg’}\n",
        "- `diag_kind` : {‘auto’, ‘hist’, ‘kde’, None}"
      ]
    },
    {
      "cell_type": "code",
      "metadata": {
        "id": "bYLCHCA5e3Z_"
      },
      "source": [
        "sns.pairplot(data=iris, hue='Species', kind='hist')"
      ],
      "execution_count": null,
      "outputs": []
    },
    {
      "cell_type": "markdown",
      "metadata": {
        "id": "qP0Wsutse3aA"
      },
      "source": [
        "기본적으로 pairwise로 하게 되면 모양이 대각선을 기준으로 대칭입니다. 상삼각행렬의 plot은 보지 않는 방법도 있습니다."
      ]
    },
    {
      "cell_type": "code",
      "metadata": {
        "id": "5fLxXoire3aA"
      },
      "source": [
        "sns.pairplot(data=iris, hue='Species', corner=True)"
      ],
      "execution_count": null,
      "outputs": []
    },
    {
      "cell_type": "markdown",
      "metadata": {
        "id": "9Bbzo4PPe3aA"
      },
      "source": [
        "## 3. Facet Grid 사용하기\n",
        "\n",
        "pairplot과 같이 다중 패널을 사용하는 시각화를 의미합니다.\n",
        "\n",
        "다만 pairplot은 feature-feature 사이를 살폈다면, Facet Grid는 feature-feature 뿐만이 아니라 feature's category-feature's category의 관계도 살펴볼 수 있습니다.\n",
        "\n",
        "단일 시각화도 가능하지만, 여기서는 최대한 여러 pair를 보며 관계를 살피는 것을 위주로 보면 좋습니다.\n",
        "\n",
        "총 4개의 큰 함수가 Facet Grid를 기반으로 만들어졌습니다.\n",
        "\n",
        "- `catplot` : Categorical \n",
        "- `displot` : Distribution\n",
        "- `relplot` : Relational\n",
        "- `lmplot` : Regression\n",
        "\n",
        "\n",
        "### 3-1. catplot \n",
        "\n",
        "이미 수 많은 방법을 앞에서 살펴보았기에 각각에 대한 설명은 생략하도록 하겠습니다.\n",
        "`catplot`은 다음 방법론을 사용할 수 있습니다.\n",
        "\n",
        "- Categorical scatterplots:\n",
        "    - `stripplot()` (with `kind=\"strip\"`; the default)\n",
        "    - `swarmplot()` (with `kind=\"swarm\"`)\n",
        "\n",
        "- Categorical distribution plots:\n",
        "    - `boxplot()` (with `kind=\"box\"`)\n",
        "    - `violinplot()` (with `kind=\"violin\"`)\n",
        "    - `boxenplot()` (with `kind=\"boxen\"`)\n",
        "\n",
        "- Categorical estimate plots:\n",
        "    - `pointplot()` (with `kind=\"point\"`)\n",
        "    - `barplot()` (with `kind=\"bar\"`)\n",
        "    - `countplot()` (with `kind=\"count\"`)\n",
        "\n"
      ]
    },
    {
      "cell_type": "code",
      "metadata": {
        "id": "4VjOo0wge3aA"
      },
      "source": [
        "student.head()"
      ],
      "execution_count": null,
      "outputs": []
    },
    {
      "cell_type": "code",
      "metadata": {
        "id": "OOLtBaU0e3aB"
      },
      "source": [
        "sns.catplot(x=\"race/ethnicity\", y=\"math score\", hue=\"gender\", data=student)"
      ],
      "execution_count": null,
      "outputs": []
    },
    {
      "cell_type": "markdown",
      "metadata": {
        "id": "hTMdC3tve3aB"
      },
      "source": [
        "기본은 `stripplot`이고, 다른 플롯도 사용할 수 있습니다."
      ]
    },
    {
      "cell_type": "code",
      "metadata": {
        "id": "HAdaPCtXe3aB"
      },
      "source": [
        "sns.catplot(x=\"race/ethnicity\", y=\"math score\", hue=\"gender\", data=student,\n",
        "            kind='box'\n",
        "           )"
      ],
      "execution_count": null,
      "outputs": []
    },
    {
      "cell_type": "markdown",
      "metadata": {
        "id": "xR8TQBnre3aB"
      },
      "source": [
        "FacetGrid는 행(Row)과 열(Column)을 조정하는 것이 중요합니다.\n",
        "\n",
        "각 행과 열의 category를 기반으로 해당 그래프의 개수가 조정됩니다."
      ]
    },
    {
      "cell_type": "code",
      "metadata": {
        "id": "uRxh03ove3aB"
      },
      "source": [
        "sns.catplot(x=\"race/ethnicity\", y=\"math score\", hue=\"gender\", data=student,\n",
        "            kind='box', col='lunch', row='test preparation course'\n",
        "           )"
      ],
      "execution_count": null,
      "outputs": []
    },
    {
      "cell_type": "markdown",
      "metadata": {
        "id": "lvBAiUoRe3aC"
      },
      "source": [
        "### 3-2. displot\n",
        "\n",
        "`displot`은 다음 방법론을 사용할 수 있습니다.\n",
        "\n",
        "- `histplot()` (with `kind=\"hist\"`; the default)\n",
        "- `kdeplot()` (with `kind=\"kde\"`)\n",
        "- `ecdfplot()` (with `kind=\"ecdf\"`; univariate-only)"
      ]
    },
    {
      "cell_type": "code",
      "metadata": {
        "id": "qo0xRhyhe3aC"
      },
      "source": [
        "sns.displot(x=\"math score\", hue=\"gender\", data=student)"
      ],
      "execution_count": null,
      "outputs": []
    },
    {
      "cell_type": "code",
      "metadata": {
        "id": "xgzT1Od_e3aC"
      },
      "source": [
        "sns.displot(x=\"math score\", hue=\"gender\", data=student,\n",
        "           col='race/ethnicity', # kind='kde', fill=True\n",
        "            col_order=sorted(student['race/ethnicity'].unique())\n",
        "           )"
      ],
      "execution_count": null,
      "outputs": []
    },
    {
      "cell_type": "markdown",
      "metadata": {
        "id": "KJzSiRJze3aC"
      },
      "source": [
        "### 3-3. relplot\n",
        "\n",
        "`relplot`은 다음 방법론을 사용할 수 있습니다.\n",
        "\n",
        "- `scatterplot()` (with `kind=\"scatter\"`; the default)\n",
        "- `lineplot()` (with `kind=\"line\"`)"
      ]
    },
    {
      "cell_type": "code",
      "metadata": {
        "id": "UOfIb9aGe3aC"
      },
      "source": [
        "sns.relplot(x=\"math score\", y='reading score', hue=\"gender\", data=student,\n",
        "           col='lunch')"
      ],
      "execution_count": null,
      "outputs": []
    },
    {
      "cell_type": "markdown",
      "metadata": {
        "id": "5DL_jUKpe3aD"
      },
      "source": [
        "### 3-4. lmplot\n",
        "\n",
        "`lmplot`은 다음 방법론을 사용할 수 있습니다.\n",
        "\n",
        "- `regplot()`"
      ]
    },
    {
      "cell_type": "code",
      "metadata": {
        "id": "AEZaN40Le3aD"
      },
      "source": [
        "sns.lmplot(x=\"math score\", y='reading score', hue=\"gender\", data=student)"
      ],
      "execution_count": null,
      "outputs": []
    },
    {
      "cell_type": "code",
      "metadata": {
        "id": "LW__-VGhe3aD"
      },
      "source": [
        ""
      ],
      "execution_count": null,
      "outputs": []
    }
  ]
}